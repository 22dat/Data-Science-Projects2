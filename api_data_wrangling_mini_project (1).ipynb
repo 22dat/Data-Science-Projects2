{
 "cells": [
  {
   "cell_type": "markdown",
   "metadata": {},
   "source": [
    "This exercise will require you to pull some data from the Qunadl API. Qaundl is currently the most widely used aggregator of financial market data."
   ]
  },
  {
   "cell_type": "markdown",
   "metadata": {},
   "source": [
    "As a first step, you will need to register a free account on the http://www.quandl.com website."
   ]
  },
  {
   "cell_type": "markdown",
   "metadata": {},
   "source": [
    "After you register, you will be provided with a unique API key, that you should store:"
   ]
  },
  {
   "cell_type": "code",
   "execution_count": 1,
   "metadata": {
    "jupyter": {
     "outputs_hidden": true
    }
   },
   "outputs": [],
   "source": [
    "# Store the API key as a string - according to PEP8, constants are always named in all upper case\n",
    "API_KEY = 'TExdGJqoVsdKNEsCA__x'"
   ]
  },
  {
   "cell_type": "markdown",
   "metadata": {},
   "source": [
    "Qaundl has a large number of data sources, but, unfortunately, most of them require a Premium subscription. Still, there are also a good number of free datasets."
   ]
  },
  {
   "cell_type": "markdown",
   "metadata": {},
   "source": [
    "For this mini project, we will focus on equities data from the Frankfurt Stock Exhange (FSE), which is available for free. We'll try and analyze the stock prices of a company called Carl Zeiss Meditec, which manufactures tools for eye examinations, as well as medical lasers for laser eye surgery: https://www.zeiss.com/meditec/int/home.html. The company is listed under the stock ticker AFX_X."
   ]
  },
  {
   "cell_type": "markdown",
   "metadata": {},
   "source": [
    "You can find the detailed Quandl API instructions here: https://docs.quandl.com/docs/time-series"
   ]
  },
  {
   "cell_type": "markdown",
   "metadata": {},
   "source": [
    "While there is a dedicated Python package for connecting to the Quandl API, we would prefer that you use the *requests* package, which can be easily downloaded using *pip* or *conda*. You can find the documentation for the package here: http://docs.python-requests.org/en/master/ "
   ]
  },
  {
   "cell_type": "markdown",
   "metadata": {},
   "source": [
    "Finally, apart from the *requests* package, you are encouraged to not use any third party Python packages, such as *pandas*, and instead focus on what's available in the Python Standard Library (the *collections* module might come in handy: https://pymotw.com/3/collections/ ).\n",
    "Also, since you won't have access to DataFrames, you are encouraged to us Python's native data structures - preferably dictionaries, though some questions can also be answered using lists.\n",
    "You can read more on these data structures here: https://docs.python.org/3/tutorial/datastructures.html"
   ]
  },
  {
   "cell_type": "markdown",
   "metadata": {},
   "source": [
    "Keep in mind that the JSON responses you will be getting from the API map almost one-to-one to Python's dictionaries. Unfortunately, they can be very nested, so make sure you read up on indexing dictionaries in the documentation provided above."
   ]
  },
  {
   "cell_type": "code",
   "execution_count": 9,
   "metadata": {
    "jupyter": {
     "outputs_hidden": true
    }
   },
   "outputs": [],
   "source": [
    "# First, import the relevant modules\n",
    "\n",
    "import requests\n",
    "import json"
   ]
  },
  {
   "cell_type": "markdown",
   "metadata": {},
   "source": [
    "Note: API's can change a bit with each version, for this exercise it is reccomended to use the \"V3\" quandl api at `https://www.quandl.com/api/v3/`"
   ]
  },
  {
   "cell_type": "code",
   "execution_count": 10,
   "metadata": {
    "jupyter": {
     "outputs_hidden": true
    }
   },
   "outputs": [],
   "source": [
    "# Now, call the Quandl API and pull out a small sample of the data (only one day) to get a glimpse\n",
    "# into the JSON structure that will be returned\n",
    "import requests\n",
    "import json\n",
    "# Specify the Quandl API URL\n",
    "url = 'https://www.quandl.com/api/v3/datatables/SHARADAR/SF1'\n",
    "\n",
    "# Define query parameters\n",
    "params = {\n",
    "    'ticker': 'AFX_X',\n",
    "    'dimension': 'MRY',\n",
    "    'calendardate.gte': '2017-01-01',\n",
    "    'calendardate.lte': '2017-12-31',\n",
    "    'api_key': 'TExdGJqoVsdKNEsCA__x'\n",
    "}\n",
    "\n",
    "# Make the API request\n",
    "response = requests.get(url, params=params)\n",
    "\n",
    "# Parse the JSON response\n",
    "data = json.loads(response.text)\n"
   ]
  },
  {
   "cell_type": "code",
   "execution_count": null,
   "metadata": {
    "collapsed": true,
    "jupyter": {
     "outputs_hidden": true
    }
   },
   "outputs": [],
   "source": [
    "# Inspect the JSON structure of the object you created, and take note of how nested it is,\n",
    "# as well as the overall structure\n"
   ]
  },
  {
   "cell_type": "markdown",
   "metadata": {},
   "source": [
    "These are your tasks for this mini project:\n",
    "\n",
    "1. Collect data from the Franfurt Stock Exchange, for the ticker AFX_X, for the whole year 2017 (keep in mind that the date format is YYYY-MM-DD).\n",
    "2. Convert the returned JSON object into a Python dictionary.\n",
    "3. Calculate what the highest and lowest opening prices were for the stock in this period.\n",
    "4. What was the largest change in any one day (based on High and Low price)?\n",
    "5. What was the largest change between any two days (based on Closing Price)?\n",
    "6. What was the average daily trading volume during this year?\n",
    "7. (Optional) What was the median trading volume during this year. (Note: you may need to implement your own function for calculating the median.)"
   ]
  },
  {
   "cell_type": "code",
   "execution_count": 11,
   "metadata": {},
   "outputs": [
    {
     "ename": "ValueError",
     "evalue": "max() arg is an empty sequence",
     "output_type": "error",
     "traceback": [
      "\u001b[1;31m---------------------------------------------------------------------------\u001b[0m",
      "\u001b[1;31mValueError\u001b[0m                                Traceback (most recent call last)",
      "Cell \u001b[1;32mIn[11], line 33\u001b[0m\n\u001b[0;32m     31\u001b[0m \u001b[38;5;66;03m# Calculate the highest and lowest opening prices\u001b[39;00m\n\u001b[0;32m     32\u001b[0m opening_prices \u001b[38;5;241m=\u001b[39m [row[\u001b[38;5;124m'\u001b[39m\u001b[38;5;124mopen\u001b[39m\u001b[38;5;124m'\u001b[39m] \u001b[38;5;28;01mfor\u001b[39;00m row \u001b[38;5;129;01min\u001b[39;00m data_list \u001b[38;5;28;01mif\u001b[39;00m row[\u001b[38;5;124m'\u001b[39m\u001b[38;5;124mopen\u001b[39m\u001b[38;5;124m'\u001b[39m] \u001b[38;5;129;01mis\u001b[39;00m \u001b[38;5;129;01mnot\u001b[39;00m \u001b[38;5;28;01mNone\u001b[39;00m]\n\u001b[1;32m---> 33\u001b[0m highest_opening_price \u001b[38;5;241m=\u001b[39m \u001b[38;5;28;43mmax\u001b[39;49m\u001b[43m(\u001b[49m\u001b[43mopening_prices\u001b[49m\u001b[43m)\u001b[49m\n\u001b[0;32m     34\u001b[0m lowest_opening_price \u001b[38;5;241m=\u001b[39m \u001b[38;5;28mmin\u001b[39m(opening_prices)\n\u001b[0;32m     36\u001b[0m \u001b[38;5;66;03m# Calculate the largest change in one day\u001b[39;00m\n",
      "\u001b[1;31mValueError\u001b[0m: max() arg is an empty sequence"
     ]
    }
   ],
   "source": [
    "import requests\n",
    "import json\n",
    "\n",
    "# Specify the Quandl API URL\n",
    "url = 'https://www.quandl.com/api/v3/datatables/SHARADAR/SF1'\n",
    "\n",
    "# Define query parameters\n",
    "params = {\n",
    "    'ticker': 'AFX_X',\n",
    "    'dimension': 'MRY',\n",
    "    'calendardate.gte': '2017-01-01',\n",
    "    'calendardate.lte': '2017-12-31',\n",
    "    'api_key': 'TExdGJqoVsdKNEsCA__x'  \n",
    "}\n",
    "\n",
    "# Make the API request\n",
    "response = requests.get(url, params=params)\n",
    "\n",
    "# Check if the request was successful\n",
    "if response.status_code == 200:\n",
    "    # Parse the JSON response\n",
    "    data = json.loads(response.text)\n",
    "    \n",
    "    # Extract the column names and data\n",
    "    columns = data['datatable']['columns']\n",
    "    data = data['datatable']['data']\n",
    "\n",
    "    # Convert the data into a list of dictionaries\n",
    "    data_list = [dict(zip([col['name'] for col in columns], row)) for row in data]\n",
    "\n",
    "    # Calculate the highest and lowest opening prices\n",
    "    opening_prices = [row['open'] for row in data_list if row['open'] is not None]\n",
    "    highest_opening_price = max(opening_prices)\n",
    "    lowest_opening_price = min(opening_prices)\n",
    "\n",
    "    # Calculate the largest change in one day\n",
    "    largest_change_one_day = max([row['high'] - row['low'] for row in data_list])\n",
    "\n",
    "    # Calculate the largest change between any two days (based on closing price)\n",
    "    closing_prices = [row['close'] for row in data_list if row['close'] is not None]\n",
    "    largest_change_two_days = max([abs(closing_prices[i] - closing_prices[i-1]) for i in range(1, len(closing_prices))])\n",
    "\n",
    "    # Calculate the average daily trading volume\n",
    "    trading_volumes = [row['volume'] for row in data_list if row['volume'] is not None]\n",
    "    average_trading_volume = sum(trading_volumes) / len(trading_volumes)\n",
    "\n",
    "    # Calculate the median trading volume (optional)\n",
    "    def median(lst):\n",
    "        sorted_lst = sorted(lst)\n",
    "        n = len(sorted_lst)\n",
    "        if n % 2 == 0:\n",
    "            return (sorted_lst[n//2 - 1] + sorted_lst[n//2]) / 2\n",
    "        else:\n",
    "            return sorted_lst[n//2]\n",
    "\n",
    "    median_trading_volume = median(trading_volumes)\n",
    "\n",
    "    # Print the results\n",
    "    print(f'Highest Opening Price: {highest_opening_price}')\n",
    "    print(f'Lowest Opening Price: {lowest_opening_price}')\n",
    "    print(f'Largest Change in One Day: {largest_change_one_day}')\n",
    "    print(f'Largest Change Between Two Days: {largest_change_two_days}')\n",
    "    print(f'Average Daily Trading Volume: {average_trading_volume}')\n",
    "    print(f'Median Trading Volume: {median_trading_volume} (Optional)')\n",
    "else:\n",
    "    print(f'Error: Status Code {response.status_code}')"
   ]
  },
  {
   "cell_type": "code",
   "execution_count": 12,
   "metadata": {},
   "outputs": [
    {
     "name": "stdout",
     "output_type": "stream",
     "text": [
      "No valid opening prices found in the data.\n"
     ]
    }
   ],
   "source": [
    "# Calculate the highest and lowest opening prices\n",
    "opening_prices = [row['open'] for row in data_list if row['open'] is not None]\n",
    "\n",
    "if opening_prices:\n",
    "    highest_opening_price = max(opening_prices)\n",
    "    lowest_opening_price = min(opening_prices)\n",
    "    print(f'Highest Opening Price: ${highest_opening_price:.2f}')\n",
    "    print(f'Lowest Opening Price: ${lowest_opening_price:.2f}')\n",
    "else:\n",
    "    print('No valid opening prices found in the data.')"
   ]
  },
  {
   "cell_type": "code",
   "execution_count": 13,
   "metadata": {},
   "outputs": [
    {
     "name": "stdout",
     "output_type": "stream",
     "text": [
      "No valid opening prices found in the data.\n"
     ]
    }
   ],
   "source": [
    "# Initialize variables to store highest and lowest opening prices\n",
    "highest_opening_price = None\n",
    "lowest_opening_price = None\n",
    "\n",
    "# Iterate through the data and find the highest and lowest opening prices\n",
    "for row in data_list:\n",
    "    if row['open'] is not None:\n",
    "        if highest_opening_price is None or row['open'] > highest_opening_price:\n",
    "            highest_opening_price = row['open']\n",
    "        if lowest_opening_price is None or row['open'] < lowest_opening_price:\n",
    "            lowest_opening_price = row['open']\n",
    "\n",
    "# Check if valid opening prices were found\n",
    "if highest_opening_price is not None and lowest_opening_price is not None:\n",
    "    print(f'Highest Opening Price: ${highest_opening_price:.2f}')\n",
    "    print(f'Lowest Opening Price: ${lowest_opening_price:.2f}')\n",
    "else:\n",
    "    print('No valid opening prices found in the data.')"
   ]
  },
  {
   "cell_type": "code",
   "execution_count": null,
   "metadata": {},
   "outputs": [],
   "source": []
  }
 ],
 "metadata": {
  "kernelspec": {
   "display_name": "Python 3 (ipykernel)",
   "language": "python",
   "name": "python3"
  },
  "language_info": {
   "codemirror_mode": {
    "name": "ipython",
    "version": 3
   },
   "file_extension": ".py",
   "mimetype": "text/x-python",
   "name": "python",
   "nbconvert_exporter": "python",
   "pygments_lexer": "ipython3",
   "version": "3.10.9"
  }
 },
 "nbformat": 4,
 "nbformat_minor": 4
}
